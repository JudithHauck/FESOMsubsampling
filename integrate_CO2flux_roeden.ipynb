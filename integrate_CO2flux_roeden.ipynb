{
 "cells": [
  {
   "cell_type": "code",
   "execution_count": 2,
   "metadata": {},
   "outputs": [
    {
     "name": "stdout",
     "output_type": "stream",
     "text": [
      "[NbConvertApp] Converting notebook integrate_CO2flux.ipynb to python\n",
      "[NbConvertApp] Writing 3099 bytes to integrate_CO2flux.py\n"
     ]
    }
   ],
   "source": [
    "#after changes in the script using Jupyter notebook, save, and run this:\n",
    "get_ipython().system(u'jupyter nbconvert --to=python integrate_CO2flux.ipynb')"
   ]
  },
  {
   "cell_type": "code",
   "execution_count": 9,
   "metadata": {
    "collapsed": true
   },
   "outputs": [],
   "source": [
    "    def integrate_CO2flux_roeden(datam,region,xax,yax):\n",
    "        \"\"\"\n",
    "        this function integrates a monthly 3d field of CO2 flux into an annual mean time-series, over specific regions\n",
    "\n",
    "        \"\"\"\n",
    "      \n",
    "        import numpy as np\n",
    "        from annualmean import annualmean\n",
    "        import matplotlib.pyplot as plt\n",
    "        import matplotlib.cm as cm\n",
    "        cmap = cm.jet\n",
    "        cmap.set_bad('white',1.)\n",
    "        \n",
    "        nn = np.shape(datam)\n",
    "        \n",
    "        nt = nn[0]\n",
    "        nx=nn[2]\n",
    "        ny=nn[1]\n",
    "        \n",
    "        #print np.shape(yax)\n",
    "        yax2=yax[np.newaxis,:,np.newaxis]\n",
    "        #print np.shape(yax2)\n",
    "        YY = np.tile(yax2,(nt,1,nx))\n",
    "        \n",
    "#        print np.shape(YY)\n",
    "               \n",
    "        # define indices for regions\n",
    "        # define areas\n",
    "        \n",
    "\n",
    "        maskG = (YY[:] < 90)\n",
    "        maskN = ((YY[:]>30))\n",
    "        maskS = (YY[:]<-30)\n",
    "        maskT = ((YY[:]>-30) & (YY[:] < 30))\n",
    "\n",
    "            \n",
    "\n",
    "        # define right region index\n",
    "        if region == 'global':\n",
    "            \n",
    "            mask = maskG\n",
    "       # elif self.region == 'pac': #do not filter more, indR should be global/all\n",
    "       #     indR = glob\n",
    "        elif region == 'S':\n",
    "            mask = maskS\n",
    "        elif region == 'N':\n",
    "            mask = maskN\n",
    "        elif region == 'T':\n",
    "            mask = maskT\n",
    "        else:\n",
    "            raise NameError('Region not defined properly')\n",
    "            \n",
    "        #unit is molC/m2/s, convert to PgC/yr\n",
    "        # *12: mol --> gC, *1e-15: g --> Pg, *86400*365.25: /s -> /yr\n",
    "        conv=12*1e-15 *86400*365.25\n",
    " \n",
    "       # print np.shape(datam)\n",
    "    \n",
    "        # initialize array full of NaNs\n",
    "        datam2 = np.full_like(datam, np.nan)\n",
    "        \n",
    "        # fill with values of region to be used, rest stays NaN \n",
    "        datam2[mask] = datam[mask]\n",
    "        data_m = np.ma.array(datam2, mask=np.isnan(datam2))\n",
    "    \n",
    "        tmp2 = data_m * areaT   \n",
    "    \n",
    "    # print np.shape(tmp2)\n",
    "        # sum up and convert units\n",
    "        #sum first over xax, then yax, keep timesteps (axis0)\n",
    "        tmp3 = conv*(np.nansum(np.nansum(tmp2,axis=2),axis=1))\n",
    "      #  print np.shape(tmp3)\n",
    "        fgco2_global=tmp3\n",
    "        # annual_mean\n",
    "        fgco2_global_am=annualmean(tmp3)\n",
    "      #  print np.shape(fgco2_global_am) \n",
    "        \n",
    "        #########################################   \n",
    "        ### quickly check fields:\n",
    "        \n",
    "    #    lon, lat = np.meshgrid(xax,yax, indexing='ij')\n",
    "\n",
    "        #print np.shape(np.squeeze(datam[:,indR,:]))\n",
    "        #graphic models\n",
    "    #    print \"plotting year 2015 December\"\n",
    "    #    fig_mod = plt.figure(1,figsize=(10,10))\n",
    "    #    plt.pcolor(xax,yax,np.squeeze(data_m[-25,:,:]), vmin=-2e-7, vmax=5e-7, cmap=cmap)#vmin=np.nanmin(x), vmax=np.nanmax(x)) \n",
    "    #    plt.colorbar()\n",
    "    #    plt.show()\n",
    "        return fgco2_global_am\n",
    "    \n",
    "        \n",
    "    "
   ]
  },
  {
   "cell_type": "markdown",
   "metadata": {},
   "source": [
    "#test\n",
    "import numpy as np\n",
    "from netCDF4 import Dataset\n",
    "gcb_data = Dataset('../Output/gcb_load.nc')\n",
    "roeden_spco2_1x1 = gcb_data['roeden_spco2_1x1'][:]\n",
    "\n",
    "mean = annualmean(roeden_spco2_1x1)\n",
    "print np.shape(roeden_spco2_1x1), np.shape(mean)"
   ]
  },
  {
   "cell_type": "code",
   "execution_count": null,
   "metadata": {
    "collapsed": true
   },
   "outputs": [],
   "source": []
  }
 ],
 "metadata": {
  "kernelspec": {
   "display_name": "Python 2",
   "language": "python",
   "name": "python2"
  },
  "language_info": {
   "codemirror_mode": {
    "name": "ipython",
    "version": 2
   },
   "file_extension": ".py",
   "mimetype": "text/x-python",
   "name": "python",
   "nbconvert_exporter": "python",
   "pygments_lexer": "ipython2",
   "version": "2.7.14"
  }
 },
 "nbformat": 4,
 "nbformat_minor": 2
}
